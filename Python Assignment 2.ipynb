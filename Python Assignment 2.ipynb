{
  "cells": [
    {
      "cell_type": "markdown",
      "id": "79cd35ca-0d18-4af1-8fcb-b92508c32d72",
      "metadata": {
        "id": "79cd35ca-0d18-4af1-8fcb-b92508c32d72"
      },
      "source": [
        "# 🏫 PYTHON SCHOOL QUEST: The Tech Club’s New Challenge!\n",
        "## 🚀 A Fun, Beginner-Friendly Python Adventure! 🚀"
      ]
    },
    {
      "cell_type": "markdown",
      "id": "d7356151-ded0-43c5-85cb-563b8ccd1e51",
      "metadata": {
        "id": "d7356151-ded0-43c5-85cb-563b8ccd1e51"
      },
      "source": [
        "## 📖 Chapter 2: The School's Tech Upgrade!\n",
        "### After successfully setting up the student enrollment system, Principal Williams is impressed! 🎉 He now has another challenge for the Tech Club—help automate school activities using Python’s Operators!\n",
        "\n",
        "**Alex, Mia, and Jake are excited! But before they start coding, Mr. Carter explains:**\n",
        "\n",
        "**\"Python has different types of operators that help us perform calculations, make comparisons, and even make decisions based on conditions!\"**\n",
        "\n",
        "**🤖 Robo-Helper 3000 beeps:**\n",
        "**\"Let’s see if you can beat me in solving these tasks! Beep boop! Ready? Let’s go!\"**"
      ]
    },
    {
      "cell_type": "markdown",
      "id": "d90e33b5-d56a-4957-a197-68d6669570ba",
      "metadata": {
        "id": "d90e33b5-d56a-4957-a197-68d6669570ba"
      },
      "source": [
        "# 💻 Python Challenges Begin! 🚀\n",
        "## 📌 TASK 1: Calculate the Total Cost of School Supplies (Arithmetic Operators)\n",
        "### 🔹 Scenario:\n",
        "**Mia is buying 5 notebooks and 3 pens for the Tech Club. Each notebook costs $4, and each pen costs $2.**\n",
        "\n",
        "**📝 Your Task:**\n",
        "\n",
        "**Use multiplication to find the total cost of notebooks.**\n",
        "\n",
        "**Use multiplication to find the total cost of pens.**\n",
        "\n",
        "**Use addition to find the final total cost.**\n",
        "\n",
        "**✅ Expected Output:**\n",
        "\n",
        "##### Total cost of notebooks: $20\n",
        "\n",
        "##### Total cost of pens: $6\n",
        "\n",
        "##### Grand Total: $26"
      ]
    },
    {
      "cell_type": "code",
      "execution_count": 10,
      "id": "c7a12af0-bda6-4007-abff-cbb89f58551b",
      "metadata": {
        "id": "c7a12af0-bda6-4007-abff-cbb89f58551b",
        "outputId": "3cbf19ab-10f1-4b76-ac4b-c2014fe2635a",
        "colab": {
          "base_uri": "https://localhost:8080/"
        }
      },
      "outputs": [
        {
          "output_type": "stream",
          "name": "stdout",
          "text": [
            "How many notebooks you need:5\n",
            "How many Pens you need:3\n",
            "Total cost of notebooks: $ 20\n",
            "Total cost of pen: $ 6\n",
            "Grand Total: $ 26\n"
          ]
        }
      ],
      "source": [
        "N1 = int(input(\"How many notebooks you need:\"))\n",
        "P1 = int(input(\"How many Pens you need:\"))\n",
        "TCN = (4 * N1)\n",
        "TCP = (2 * P1)\n",
        "print(\"Total cost of notebooks:\",\"$\",TCN)\n",
        "print(\"Total cost of pen:\",\"$\",TCP)\n",
        "print(\"Grand Total:\",\"$\",TCN+TCP,)"
      ]
    },
    {
      "cell_type": "markdown",
      "id": "a2bb761c-f0ad-4bbc-a459-a59a432d11c1",
      "metadata": {
        "id": "a2bb761c-f0ad-4bbc-a459-a59a432d11c1"
      },
      "source": [
        "## 📌 TASK 2: Fix the Broken Calculator (Arithmetic Operators)\n",
        "### 🔹 Scenario:\n",
        "**Jake tried to write a Python program to divide numbers, but something is wrong!**\n",
        "\n",
        "**🚨 Broken Code:**"
      ]
    },
    {
      "cell_type": "code",
      "execution_count": 13,
      "id": "299f7f67-64f6-400f-87c2-7c2ea9d58ae3",
      "metadata": {
        "id": "299f7f67-64f6-400f-87c2-7c2ea9d58ae3",
        "outputId": "4d20f1e7-3168-4140-c980-d9097febd600",
        "colab": {
          "base_uri": "https://localhost:8080/"
        }
      },
      "outputs": [
        {
          "output_type": "stream",
          "name": "stdout",
          "text": [
            "The answer is:  3.3333333333333335\n"
          ]
        }
      ],
      "source": [
        "#Fix the code\n",
        "num1 = 10\n",
        "num2 = 3\n",
        "result = num1 / num2\n",
        "print(\"The answer is: \",result)"
      ]
    },
    {
      "cell_type": "markdown",
      "id": "097b93a6-f271-45cc-9974-2c89e5d93bd0",
      "metadata": {
        "id": "097b93a6-f271-45cc-9974-2c89e5d93bd0"
      },
      "source": [
        "## 📌 TASK 3: The School Fundraiser (Assignment Operators)\n",
        "### 🔹 Scenario:\n",
        "**Greenfield High is raising money for a new Tech Lab. So far, they have raised $500.**\n",
        "\n",
        "**📝 Your Task:**\n",
        "\n",
        "**Add $200 to the fundraiser amount.**\n",
        "\n",
        "**Double the total amount using an assignment operator.**\n",
        "\n",
        "**Print the final amount.**"
      ]
    },
    {
      "cell_type": "code",
      "execution_count": 15,
      "id": "fcffc69e-649c-4203-aa78-4fb7d063ac53",
      "metadata": {
        "id": "fcffc69e-649c-4203-aa78-4fb7d063ac53",
        "outputId": "7033bd50-eda4-45ec-bc0e-c0682fd88773",
        "colab": {
          "base_uri": "https://localhost:8080/"
        }
      },
      "outputs": [
        {
          "output_type": "stream",
          "name": "stdout",
          "text": [
            "Greenfield Fund raised amount:500\n",
            "How much amount you want to add to Greenfield Fund:200\n",
            "The final amount: 1400\n"
          ]
        }
      ],
      "source": [
        "#Write the code here\n",
        "G1 = int(input(\"Greenfield Fund raised amount:\"))\n",
        "A1 = int(input(\"How much amount you want to add to Greenfield Fund:\"))\n",
        "Total = G1 + A1\n",
        "GT1 = Total * 2\n",
        "print(\"The final amount:\",GT1)"
      ]
    },
    {
      "cell_type": "markdown",
      "id": "174e8b1d-cff7-48df-9b18-a6ff4e71b7b0",
      "metadata": {
        "id": "174e8b1d-cff7-48df-9b18-a6ff4e71b7b0"
      },
      "source": [
        "## 📌 TASK 4: Who Scored Higher? (Comparison Operators)\n",
        "### 🔹 Scenario:\n",
        "**Alex and Jake had a friendly math quiz. Alex scored 85 points, and Jake scored 92 points.**\n",
        "\n",
        "**📝 Your Task:**\n",
        "\n",
        "**Use comparison operators to check:**\n",
        "\n",
        "**Who scored higher?**\n",
        "\n",
        "**Did both get the same score?**\n",
        "\n",
        "**Print the results.**\n",
        "\n",
        "**✅ Expected Output:**\n",
        "\n",
        "**Did Alex score higher? False**\n",
        "\n",
        "**Did Jake score higher? True**\n",
        "\n",
        "**Did they both score the same? False**\n"
      ]
    },
    {
      "cell_type": "code",
      "execution_count": 25,
      "id": "6014bac5-1ce7-49c0-9ed7-24f7253d38fe",
      "metadata": {
        "id": "6014bac5-1ce7-49c0-9ed7-24f7253d38fe",
        "outputId": "17a41fe5-704a-4ec0-9625-2687c273192a",
        "colab": {
          "base_uri": "https://localhost:8080/"
        }
      },
      "outputs": [
        {
          "output_type": "stream",
          "name": "stdout",
          "text": [
            "Enter Alex Score:95\n",
            "Enter Jake Score:82\n",
            "Did Alex score higher?: True\n",
            "Did Jake score higher?: False\n",
            "Did they both score the same? False\n"
          ]
        }
      ],
      "source": [
        "#Write the code here\n",
        "Alex = int(input(\"Enter Alex Score:\"))\n",
        "Jake = int(input(\"Enter Jake Score:\"))\n",
        "if Alex>Jake:\n",
        "  print(\"Did Alex score higher?:\",True)\n",
        "  print(\"Did Jake score higher?:\",False)\n",
        "  print(\"Did they both score the same?\",False)\n",
        "elif Alex<Jake:\n",
        "  print(\"Did Alex score higher?:\",False)\n",
        "  print(\"Did Jake score higher?:\",True)\n",
        "  print(\"Did they both score the same?\",False)"
      ]
    },
    {
      "cell_type": "markdown",
      "id": "6c929976-22f8-48bd-b7eb-a4d08edc58f2",
      "metadata": {
        "id": "6c929976-22f8-48bd-b7eb-a4d08edc58f2"
      },
      "source": [
        "## 📌 TASK 5: Scholarship Eligibility (Comparison Operators)\n",
        "### 🔹 Scenario:\n",
        "**To get a school scholarship, a student must have at least 90% in their final exam.**\n",
        "\n",
        "**📝 Your Task:**\n",
        "\n",
        "**Ask the user to input their exam score.**\n",
        "\n",
        "**Use a comparison operator to check if they are eligible.**\n",
        "\n",
        "**Print an appropriate message.**"
      ]
    },
    {
      "cell_type": "code",
      "execution_count": 32,
      "id": "4518dbbe-be23-4e6c-af70-fd623a2e3cb7",
      "metadata": {
        "id": "4518dbbe-be23-4e6c-af70-fd623a2e3cb7",
        "outputId": "4becc74e-4fdb-4fe7-9b4c-b272a8a89555",
        "colab": {
          "base_uri": "https://localhost:8080/"
        }
      },
      "outputs": [
        {
          "output_type": "stream",
          "name": "stdout",
          "text": [
            "Enter the final exam score:89.5\n",
            "Not Eligible for Scholarship\n"
          ]
        }
      ],
      "source": [
        "#Write the code here\n",
        "S1 = float(input(\"Enter the final exam score:\"))\n",
        "if S1 >= 90 :\n",
        "  print(\"Eligible for Scholarship\")\n",
        "else:\n",
        "  print(\"Not Eligible for Scholarship\")"
      ]
    },
    {
      "cell_type": "markdown",
      "id": "4da6c4d0-5d49-4c3d-a3b7-e97b9bdf1cb7",
      "metadata": {
        "id": "4da6c4d0-5d49-4c3d-a3b7-e97b9bdf1cb7"
      },
      "source": [
        "## 📌 TASK 6: Logical Puzzle - School Entry (Logical Operators)\n",
        "### 🔹 Scenario:\n",
        "**To enter the Tech Lab, students must:**\n",
        "\n",
        "**Be at least 12 years old**\n",
        "\n",
        "**Have a Tech Club ID**\n",
        "\n",
        "**📝 Your Task:**\n",
        "\n",
        "**Ask the user for their age and whether they have a Tech Club ID.**\n",
        "\n",
        "**Use logical operators (and, or, not) to check if they can enter.**\n",
        "\n",
        "**Print an appropriate message.**\n",
        "\n",
        "**✅ Expected Output:**\n",
        "\n",
        "**Are you 12 years old or older? Yes**\n",
        "\n",
        "**Do you have a Tech Club ID? Yes**\n",
        "\n",
        "**Access Granted! Welcome to the Tech Lab!**\n"
      ]
    },
    {
      "cell_type": "code",
      "execution_count": 42,
      "id": "06b74787-b631-456e-b879-45a4ef297fe7",
      "metadata": {
        "id": "06b74787-b631-456e-b879-45a4ef297fe7",
        "outputId": "ab57f8db-1da8-45c0-8027-79fe64277078",
        "colab": {
          "base_uri": "https://localhost:8080/"
        }
      },
      "outputs": [
        {
          "output_type": "stream",
          "name": "stdout",
          "text": [
            "Enter your Age:13\n",
            "Enter Whether you have Tech Club ID: (Yes or No)Yes\n",
            "Are you 12 years old or older?: Yes\n",
            "Do you have a Tech Club ID?: Yes\n",
            "Access Granted! Welcome to the Tech Lab!\n"
          ]
        }
      ],
      "source": [
        "#Write the code here\n",
        "N1 = int(input(\"Enter your Age:\"))\n",
        "C1 = str(input(\"Enter Whether you have Tech Club ID: (Yes or No)\"))\n",
        "if (N1>12) and (C1 == \"Yes\"):\n",
        "  print(\"Are you 12 years old or older?:\",\"Yes\")\n",
        "  print(\"Do you have a Tech Club ID?:\",\"Yes\")\n",
        "  print(\"Access Granted! Welcome to the Tech Lab!\")\n",
        "else:\n",
        "  print(\"Are you 12 years old or older?:\",\"No\")\n",
        "  print(\"Do you have a Tech Club ID?:\",\"No\")\n",
        "  print(\"Access Not Granted! Welcome to the Tech Lab!\")"
      ]
    },
    {
      "cell_type": "markdown",
      "id": "10bc3772-0278-4ee9-9249-22f6c2b5e6cc",
      "metadata": {
        "id": "10bc3772-0278-4ee9-9249-22f6c2b5e6cc"
      },
      "source": [
        "## 📌 TASK 7: Robo-Helper’s Challenge (Logical Operators)\n",
        "### 🔹 Scenario:\n",
        "**Robo-Helper 3000 is only available for Tech Club members OR students who have completed their Python tasks.**\n",
        "\n",
        "**📝 Your Task:**\n",
        "\n",
        "**Create two boolean variables: is_tech_club_member and completed_tasks.**\n",
        "\n",
        "**Use a logical operator to check if Robo-Helper can assist the student.**\n",
        "\n",
        "**Print the result.**"
      ]
    },
    {
      "cell_type": "code",
      "execution_count": 48,
      "id": "0ec2e440-61ad-4a7e-8db0-f6dc9a921d7c",
      "metadata": {
        "id": "0ec2e440-61ad-4a7e-8db0-f6dc9a921d7c",
        "outputId": "d029ee49-5635-4af1-cb87-09d7c55928e0",
        "colab": {
          "base_uri": "https://localhost:8080/"
        }
      },
      "outputs": [
        {
          "output_type": "stream",
          "name": "stdout",
          "text": [
            "Check Whether Students have completed their Python Tasks:(Yes or No)no\n",
            "Enter Whether you have Tech Club ID: (Yes or No)nkj\n",
            "Robo Helper cannot assist the student\n"
          ]
        }
      ],
      "source": [
        "#Write the code here\n",
        "N1 = str(input(\"Check Whether Students have completed their Python Tasks:(Yes or No)\"))\n",
        "C1 = str(input(\"Enter Whether you have Tech Club ID: (Yes or No)\"))\n",
        "if (N1 == \"Yes\") and (C1 == \"Yes\"):\n",
        "  print(\"Robo Helper can assist the student\")\n",
        "else:\n",
        "  print(\"Robo Helper cannot assist the student\")"
      ]
    },
    {
      "cell_type": "markdown",
      "id": "995c0396-b08d-4a35-b37d-7b339149cfc0",
      "metadata": {
        "id": "995c0396-b08d-4a35-b37d-7b339149cfc0"
      },
      "source": [
        "## 📌 TASK 8: Even or Odd? (Arithmetic + Logical Operators)\n",
        "### 🔹 Scenario:\n",
        "**Alex wants to create a program that checks whether a number is even or odd.**\n",
        "\n",
        "**📝 Your Task:**\n",
        "\n",
        "**Ask the user for a number.**\n",
        "  \n",
        "**Use the modulus operator (%) to check if the number is even or odd.**\n",
        "    \n",
        "**Print the result.**\n",
        "    \n",
        "**✅ Example Input & Output:**\n",
        "\n",
        "**Enter a number: 7**\n",
        "\n",
        "**7 is an odd number!**\n"
      ]
    },
    {
      "cell_type": "code",
      "execution_count": 54,
      "id": "405569d4-a6bc-4d8a-96fa-0c3f44e8e312",
      "metadata": {
        "id": "405569d4-a6bc-4d8a-96fa-0c3f44e8e312",
        "outputId": "3fe4f6da-0628-441d-e5cb-2298d33d1fa5",
        "colab": {
          "base_uri": "https://localhost:8080/"
        }
      },
      "outputs": [
        {
          "output_type": "stream",
          "name": "stdout",
          "text": [
            "Enter the Number990\n",
            "The number is Even\n"
          ]
        }
      ],
      "source": [
        "#Write the code here\n",
        "S1 = int(input(\"Enter the Number\"))\n",
        "if S1%2 == 0:\n",
        "  print(\"The number is Even\")\n",
        "else:\n",
        "  print(\"The number is Odd\")\n"
      ]
    },
    {
      "cell_type": "markdown",
      "id": "b13320e4-1058-4613-8a12-c1236291852c",
      "metadata": {
        "id": "b13320e4-1058-4613-8a12-c1236291852c"
      },
      "source": [
        "## 📌 TASK 9: Age Comparison Game! (Comparison + Logical Operators)\n",
        "### 🔹 Scenario:\n",
        "**Mia and Jake want to compare their ages and see who is older!**\n",
        "\n",
        "**📝 Your Task:**\n",
        "\n",
        "**Ask for Mia’s and Jake’s ages.**\n",
        "\n",
        "**Use comparison & logical operators to print who is older, younger, or if they are the same age.**\n"
      ]
    },
    {
      "cell_type": "code",
      "execution_count": 56,
      "id": "fc93933a-1a36-4a6e-a7e4-f0a0d4ce7bc3",
      "metadata": {
        "id": "fc93933a-1a36-4a6e-a7e4-f0a0d4ce7bc3",
        "outputId": "454a128c-01ff-4bf7-e507-50814bd575df",
        "colab": {
          "base_uri": "https://localhost:8080/"
        }
      },
      "outputs": [
        {
          "output_type": "stream",
          "name": "stdout",
          "text": [
            "Mia can you enter your Age:65\n",
            "Jake can you enter your Age:55\n",
            "Miya is elder than Jake\n"
          ]
        }
      ],
      "source": [
        "#Write the code here\n",
        "N1 = int(input(\"Mia can you enter your Age:\"))\n",
        "C1 = int(input(\"Jake can you enter your Age:\"))\n",
        "if (N1>C1):\n",
        "  print(\"Miya is elder than Jake\")\n",
        "else:\n",
        "  print(\"Miya is younger than Jake\")"
      ]
    },
    {
      "cell_type": "markdown",
      "id": "4e1b5516-4a62-4cb2-bcfc-fae7136a8e70",
      "metadata": {
        "id": "4e1b5516-4a62-4cb2-bcfc-fae7136a8e70"
      },
      "source": [
        "## 📌 TASK 10: The Discount Code (Special Operators - Membership)\n",
        "### 🔹 Scenario:\n",
        "**The Tech Club is offering a special discount code to selected students.**\n",
        "\n",
        "**📝 Your Task:**\n",
        "\n",
        "**Check if the user’s name is in the discount list.**\n",
        "\n",
        "**Use the membership operator (in) to check eligibility.**\n",
        "\n",
        "**Print whether they get a discount.**\n",
        "\n",
        "**✅ Example Names List:**\n",
        "\n",
        "**discount_students = [\"Alex\", \"Mia\", \"Jake\"]**\n"
      ]
    },
    {
      "cell_type": "code",
      "execution_count": 61,
      "id": "12c2f1cd-646f-465c-9356-b37d9fc925d3",
      "metadata": {
        "id": "12c2f1cd-646f-465c-9356-b37d9fc925d3",
        "outputId": "dd441d21-fa9f-4dea-d50f-a78569679ba4",
        "colab": {
          "base_uri": "https://localhost:8080/"
        }
      },
      "outputs": [
        {
          "output_type": "stream",
          "name": "stdout",
          "text": [
            "Enter the Name:Krishnan\n",
            "Not Eligible for discount\n"
          ]
        }
      ],
      "source": [
        "#Write the code here\n",
        "O1 = [\"Murali\",\"Raja\",\"Praveen\",\"Balu\",\"Kamal\"]\n",
        "N1 = str(input(\"Enter the Name:\"))\n",
        "if N1 in O1:\n",
        "  print(\"Eligible for discount\")\n",
        "else:\n",
        "  print(\"Not Eligible for discount\")"
      ]
    },
    {
      "cell_type": "markdown",
      "id": "ce2b0200-35a5-4a31-b861-8b56301f0059",
      "metadata": {
        "id": "ce2b0200-35a5-4a31-b861-8b56301f0059"
      },
      "source": [
        "## 📌 TASK 11: Username Check (Special Operators - Identity)\n",
        "### 🔹 Scenario:\n",
        "**The school’s system needs to check if two usernames are the same.**\n",
        "\n",
        "**📝 Your Task:**\n",
        "\n",
        "**Ask the user to enter their username twice.**\n",
        "\n",
        "**Use the identity operator (is) to check if they match.**\n",
        "    \n",
        "**Print an appropriate message.**"
      ]
    },
    {
      "cell_type": "code",
      "execution_count": 65,
      "id": "c2ca2896-877c-45d9-a431-6485af21961d",
      "metadata": {
        "id": "c2ca2896-877c-45d9-a431-6485af21961d",
        "outputId": "d9f4c0b3-7543-4dee-e6a1-5c13534447d2",
        "colab": {
          "base_uri": "https://localhost:8080/"
        }
      },
      "outputs": [
        {
          "output_type": "stream",
          "name": "stdout",
          "text": [
            "Enter your username: K\n",
            "Re-enter your username: T\n",
            "name are NOT same \n"
          ]
        }
      ],
      "source": [
        "# Ask the user to enter their username twice\n",
        "username1 = input(\"Enter your username: \")\n",
        "username2 = input(\"Re-enter your username: \")\n",
        "if (username1 is username2) :\n",
        "  print(\"name are same \")\n",
        "else:\n",
        "  print(\"name are NOT same \")\n",
        "\n",
        "# Check if both inputs are the same using the identity operator - Write the code here"
      ]
    },
    {
      "cell_type": "markdown",
      "id": "d3dbc375-617a-4c64-8932-de473d0546e3",
      "metadata": {
        "id": "d3dbc375-617a-4c64-8932-de473d0546e3"
      },
      "source": [
        "## 📌 TASK 12: Tech Club Challenge Score (Assignment Operators)\n",
        "### 🔹 Scenario:\n",
        "**Each time a student completes a coding challenge, they gain 10 points.**\n",
        "\n",
        "**📝 Your Task:**\n",
        "\n",
        "**Start with an initial score of 50 points.**\n",
        "\n",
        "**Use an assignment operator to add 10 points for three completed challenges.**\n",
        "\n",
        "**Print the final score.**"
      ]
    },
    {
      "cell_type": "code",
      "execution_count": 80,
      "id": "f9152a03-1e47-49b8-b17e-6128d5a86270",
      "metadata": {
        "id": "f9152a03-1e47-49b8-b17e-6128d5a86270",
        "outputId": "2df04c45-fd8d-4220-a4f0-b3360c05e36d",
        "colab": {
          "base_uri": "https://localhost:8080/"
        }
      },
      "outputs": [
        {
          "output_type": "stream",
          "name": "stdout",
          "text": [
            "How many challenges are completed successfully:4\n",
            "64\n"
          ]
        }
      ],
      "source": [
        "#Write the code here\n",
        "IS = 50\n",
        "u1 = int(input(\"How many challenges are completed successfully:\"))\n",
        "if u1 > 3 :\n",
        "  print(u1+10+IS)\n",
        "else:\n",
        "  print(\"challenges are not completed\" )"
      ]
    },
    {
      "cell_type": "markdown",
      "id": "7a7d82f8-a8b5-4854-a91b-a1cf6730b369",
      "metadata": {
        "id": "7a7d82f8-a8b5-4854-a91b-a1cf6730b369"
      },
      "source": [
        "## 📌 TASK 13: The Power of Exponents (Arithmetic Operators)\n",
        "### 🔹 Scenario:\n",
        "**Jake is curious about how exponents work in Python!**\n",
        "\n",
        "**📝 Your Task:**\n",
        "\n",
        "**Ask the user for a base number and an exponent.**\n",
        "\n",
        "**Use the ** operator to calculate the power.**\n",
        "\n",
        "**Print the result.**\n",
        "\n",
        "**✅ Example:**\n",
        "\n",
        "**Enter base: 2**\n",
        "\n",
        "**Enter exponent: 3**\n",
        "\n",
        "**2 to the power of 3 is 8**\n"
      ]
    },
    {
      "cell_type": "code",
      "source": [
        "u1 = int(input(\"Enter the base number: \"))\n",
        "u2 = int(input(\"Re-enter the exponent: \"))\n",
        "print(u1**u2)\n"
      ],
      "metadata": {
        "id": "JfmBmaAVKz3l",
        "outputId": "9aa372e4-7147-4eea-f5b0-885e50773e2a",
        "colab": {
          "base_uri": "https://localhost:8080/"
        }
      },
      "id": "JfmBmaAVKz3l",
      "execution_count": 77,
      "outputs": [
        {
          "output_type": "stream",
          "name": "stdout",
          "text": [
            "Enter the base number: 3\n",
            "Re-enter the exponent: 2\n",
            "9\n"
          ]
        }
      ]
    },
    {
      "cell_type": "markdown",
      "id": "243866e2-9d4f-41d6-bd8e-aee0f1dc95c4",
      "metadata": {
        "id": "243866e2-9d4f-41d6-bd8e-aee0f1dc95c4"
      },
      "source": [
        "## 📌 TASK 14: Temperature Converter (Arithmetic Operators)\n",
        "### 🔹 Scenario:\n",
        "**Alex wants to convert Celsius to Fahrenheit using Python!**\n",
        "\n",
        "**📝 Your Task:**\n",
        "\n",
        "**Ask the user to enter a temperature in Celsius.**\n",
        "\n",
        "**Use the formula:**\n",
        "\n",
        "**Fahrenheit = (Celsius * 9/5) + 32**"
      ]
    },
    {
      "cell_type": "code",
      "source": [
        "u1 = int(input(\"Enter the temperature in celsius: \"))\n",
        "Farenheit = ((u1*(9/5))+32)\n",
        "print(Farenheit)"
      ],
      "metadata": {
        "id": "pOmvhnewMKxO",
        "outputId": "76aad082-b735-48a5-9c4c-0820e1434bb0",
        "colab": {
          "base_uri": "https://localhost:8080/"
        }
      },
      "id": "pOmvhnewMKxO",
      "execution_count": 89,
      "outputs": [
        {
          "output_type": "stream",
          "name": "stdout",
          "text": [
            "Enter the temperature in celsius: 98\n",
            "208.4\n"
          ]
        }
      ]
    },
    {
      "cell_type": "markdown",
      "id": "5edd5ac0-e66b-42c2-ac7d-a8ce5d3f011f",
      "metadata": {
        "id": "5edd5ac0-e66b-42c2-ac7d-a8ce5d3f011f"
      },
      "source": [
        "## 📌 TASK 15: Fix the Broken Logical Expression!\n",
        "**👉 What will this output? Explain why!**"
      ]
    },
    {
      "cell_type": "code",
      "execution_count": 72,
      "id": "883152bc-7453-494f-8e89-23071b190833",
      "metadata": {
        "id": "883152bc-7453-494f-8e89-23071b190833",
        "outputId": "d6aaac2f-cddf-4f04-c8a9-1702aaba85ce",
        "colab": {
          "base_uri": "https://localhost:8080/"
        }
      },
      "outputs": [
        {
          "output_type": "stream",
          "name": "stdout",
          "text": [
            "True\n"
          ]
        }
      ],
      "source": [
        "x = 5\n",
        "y = 10\n",
        "print(x > 3 and y < 5 or x == 5 and y > 8)"
      ]
    },
    {
      "cell_type": "markdown",
      "id": "7bf11f2b-41e9-43fb-8c8a-e00c789875f0",
      "metadata": {
        "id": "7bf11f2b-41e9-43fb-8c8a-e00c789875f0"
      },
      "source": [
        "**👉 What will this output? Explain why!**"
      ]
    },
    {
      "cell_type": "code",
      "execution_count": 73,
      "id": "6d2a2b1c-e993-4a49-a20d-cb82c83da2f4",
      "metadata": {
        "id": "6d2a2b1c-e993-4a49-a20d-cb82c83da2f4",
        "outputId": "a0e6ca1e-0ae4-4e5a-f230-9cd761f4adc4",
        "colab": {
          "base_uri": "https://localhost:8080/"
        }
      },
      "outputs": [
        {
          "output_type": "stream",
          "name": "stdout",
          "text": [
            "True\n"
          ]
        }
      ],
      "source": [
        "x = 5\n",
        "y = 10\n",
        "print((x > 3 and y < 5) or (x == 5 and y > 8))"
      ]
    },
    {
      "cell_type": "markdown",
      "id": "0369bad5-f708-4b83-ae91-16ce363ca001",
      "metadata": {
        "id": "0369bad5-f708-4b83-ae91-16ce363ca001"
      },
      "source": [
        "**👉 What will this output? Explain why!**"
      ]
    },
    {
      "cell_type": "code",
      "execution_count": 74,
      "id": "f717e466-79c1-4f72-92d3-f0dc14cfc9aa",
      "metadata": {
        "id": "f717e466-79c1-4f72-92d3-f0dc14cfc9aa",
        "outputId": "bba1fe8c-04b8-4b20-a2b1-dfb90c63ce02",
        "colab": {
          "base_uri": "https://localhost:8080/"
        }
      },
      "outputs": [
        {
          "output_type": "stream",
          "name": "stdout",
          "text": [
            "False\n"
          ]
        }
      ],
      "source": [
        "x = 5\n",
        "y = 10\n",
        "print((x > 3 and y < 5) and (x == 5 and y > 8))"
      ]
    },
    {
      "cell_type": "markdown",
      "id": "0ec8ccdd-f97f-48b3-bc2a-f52eaf8e0bcf",
      "metadata": {
        "id": "0ec8ccdd-f97f-48b3-bc2a-f52eaf8e0bcf"
      },
      "source": [
        "# 🎉 MISSION COMPLETE!\n",
        "## Great job, Alex! You have successfully helped Greenfield High using Operators in Python! 🚀💡"
      ]
    },
    {
      "cell_type": "markdown",
      "id": "0f208883-447c-43f5-916f-8bd9dfd424df",
      "metadata": {
        "id": "0f208883-447c-43f5-916f-8bd9dfd424df"
      },
      "source": [
        "**(c) Rahul Tiwari**"
      ]
    }
  ],
  "metadata": {
    "kernelspec": {
      "display_name": "Python 3 (ipykernel)",
      "language": "python",
      "name": "python3"
    },
    "language_info": {
      "codemirror_mode": {
        "name": "ipython",
        "version": 3
      },
      "file_extension": ".py",
      "mimetype": "text/x-python",
      "name": "python",
      "nbconvert_exporter": "python",
      "pygments_lexer": "ipython3",
      "version": "3.12.4"
    },
    "colab": {
      "provenance": []
    }
  },
  "nbformat": 4,
  "nbformat_minor": 5
}